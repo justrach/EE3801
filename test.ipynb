{
 "cells": [
  {
   "cell_type": "code",
   "execution_count": 1,
   "metadata": {},
   "outputs": [
    {
     "name": "stdout",
     "output_type": "stream",
     "text": [
      "This is the name of the program: /home/ec2-user/.local/lib/python3.7/site-packages/ipykernel_launcher.py\n",
      "Argument List: ['/home/ec2-user/.local/lib/python3.7/site-packages/ipykernel_launcher.py', '--ip=127.0.0.1', '--stdin=9011', '--control=9009', '--hb=9008', '--Session.signature_scheme=\"hmac-sha256\"', '--Session.key=b\"49f70fd0-2a71-4f57-a4cc-88fdc3482624\"', '--shell=9010', '--transport=\"tcp\"', '--iopub=9012', '--f=/home/ec2-user/.local/share/jupyter/runtime/kernel-v2-8926xKmxXOG5unUp.json']\n"
     ]
    }
   ],
   "source": [
    "import sys\n",
    "  \n",
    "print(\"This is the name of the program:\", sys.argv[0])\n",
    "  \n",
    "print(\"Argument List:\", str(sys.argv))"
   ]
  }
 ],
 "metadata": {
  "kernelspec": {
   "display_name": "Python 3.9.6 64-bit",
   "language": "python",
   "name": "python3"
  },
  "language_info": {
   "codemirror_mode": {
    "name": "ipython",
    "version": 3
   },
   "file_extension": ".py",
   "mimetype": "text/x-python",
   "name": "python",
   "nbconvert_exporter": "python",
   "pygments_lexer": "ipython3",
   "version": "3.7.10"
  },
  "orig_nbformat": 4,
  "vscode": {
   "interpreter": {
    "hash": "31f2aee4e71d21fbe5cf8b01ff0e069b9275f58929596ceb00d14d90e3e16cd6"
   }
  }
 },
 "nbformat": 4,
 "nbformat_minor": 2
}
